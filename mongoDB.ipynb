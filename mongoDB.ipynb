{
 "cells": [
  {
   "cell_type": "code",
   "execution_count": 2,
   "metadata": {},
   "outputs": [],
   "source": [
    "%matplotlib inline\n",
    "import numpy as np\n",
    "import pandas as pd\n",
    "import matplotlib.pyplot as plt\n",
    "from pymongo import MongoClient\n",
    "from pandas.io.json import json_normalize\n",
    "import json\n",
    "import warnings\n",
    "warnings.filterwarnings('ignore')"
   ]
  },
  {
   "cell_type": "code",
   "execution_count": 3,
   "metadata": {},
   "outputs": [],
   "source": [
    "client = MongoClient('localhost',27017)"
   ]
  },
  {
   "cell_type": "code",
   "execution_count": 4,
   "metadata": {},
   "outputs": [
    {
     "data": {
      "text/plain": [
       "['admin', 'config', 'internship', 'local']"
      ]
     },
     "execution_count": 4,
     "metadata": {},
     "output_type": "execute_result"
    }
   ],
   "source": [
    "client.list_database_names()"
   ]
  },
  {
   "cell_type": "code",
   "execution_count": 5,
   "metadata": {},
   "outputs": [],
   "source": [
    "db = client.internship"
   ]
  },
  {
   "cell_type": "code",
   "execution_count": 6,
   "metadata": {},
   "outputs": [
    {
     "data": {
      "text/plain": [
       "['attempts', 'attemptdetails', 'nothing']"
      ]
     },
     "execution_count": 6,
     "metadata": {},
     "output_type": "execute_result"
    }
   ],
   "source": [
    "collect_names = db.list_collection_names()\n",
    "collect_names"
   ]
  },
  {
   "cell_type": "code",
   "execution_count": 7,
   "metadata": {},
   "outputs": [],
   "source": [
    "# users_df= json_normalize(list(db.users.find()))"
   ]
  },
  {
   "cell_type": "code",
   "execution_count": 11,
   "metadata": {},
   "outputs": [
    {
     "data": {
      "text/html": [
       "<div>\n",
       "<style scoped>\n",
       "    .dataframe tbody tr th:only-of-type {\n",
       "        vertical-align: middle;\n",
       "    }\n",
       "\n",
       "    .dataframe tbody tr th {\n",
       "        vertical-align: top;\n",
       "    }\n",
       "\n",
       "    .dataframe thead th {\n",
       "        text-align: right;\n",
       "    }\n",
       "</style>\n",
       "<table border=\"1\" class=\"dataframe\">\n",
       "  <thead>\n",
       "    <tr style=\"text-align: right;\">\n",
       "      <th></th>\n",
       "      <th>__v</th>\n",
       "      <th>_id</th>\n",
       "      <th>attemptType</th>\n",
       "      <th>attemptdetails</th>\n",
       "      <th>createdAt</th>\n",
       "      <th>createdBy</th>\n",
       "      <th>email</th>\n",
       "      <th>idOffline</th>\n",
       "      <th>isAbandoned</th>\n",
       "      <th>isAnsync</th>\n",
       "      <th>...</th>\n",
       "      <th>totalCorrects</th>\n",
       "      <th>totalErrors</th>\n",
       "      <th>totalMark</th>\n",
       "      <th>totalMarkeds</th>\n",
       "      <th>totalMissed</th>\n",
       "      <th>totalQuestions</th>\n",
       "      <th>totalTime</th>\n",
       "      <th>updatedAt</th>\n",
       "      <th>user</th>\n",
       "      <th>userId</th>\n",
       "    </tr>\n",
       "  </thead>\n",
       "  <tbody>\n",
       "    <tr>\n",
       "      <th>0</th>\n",
       "      <td>0</td>\n",
       "      <td>5b851ff7dd6c9c8cedb051d3</td>\n",
       "      <td>NaN</td>\n",
       "      <td>5b851ff7dd6c9c400eb051d4</td>\n",
       "      <td>2018-08-28 09:17:00.084</td>\n",
       "      <td>{'user': 5b3e0266a14b7e000d9cc040, 'name': 'te...</td>\n",
       "      <td>None</td>\n",
       "      <td>None</td>\n",
       "      <td>False</td>\n",
       "      <td>True</td>\n",
       "      <td>...</td>\n",
       "      <td>25</td>\n",
       "      <td>9</td>\n",
       "      <td>25.0</td>\n",
       "      <td>0</td>\n",
       "      <td>21</td>\n",
       "      <td>55</td>\n",
       "      <td>3299999</td>\n",
       "      <td>2018-08-28 10:12:21.337</td>\n",
       "      <td>5b82922cdd6c9c2801b00f20</td>\n",
       "      <td>NaN</td>\n",
       "    </tr>\n",
       "    <tr>\n",
       "      <th>1</th>\n",
       "      <td>0</td>\n",
       "      <td>5b851ffdb0a5d1ad413d8301</td>\n",
       "      <td>NaN</td>\n",
       "      <td>5b851ffdb0a5d17a103d8302</td>\n",
       "      <td>2018-08-28 09:23:57.839</td>\n",
       "      <td>{'user': 5b3e0266a14b7e000d9cc040, 'name': 'te...</td>\n",
       "      <td>None</td>\n",
       "      <td>None</td>\n",
       "      <td>False</td>\n",
       "      <td>True</td>\n",
       "      <td>...</td>\n",
       "      <td>35</td>\n",
       "      <td>20</td>\n",
       "      <td>35.0</td>\n",
       "      <td>0</td>\n",
       "      <td>0</td>\n",
       "      <td>55</td>\n",
       "      <td>2887958</td>\n",
       "      <td>2018-08-28 10:12:25.489</td>\n",
       "      <td>5b82922edd6c9c6e6db00fb0</td>\n",
       "      <td>NaN</td>\n",
       "    </tr>\n",
       "    <tr>\n",
       "      <th>2</th>\n",
       "      <td>0</td>\n",
       "      <td>5b852003b0a5d136aa3d8371</td>\n",
       "      <td>NaN</td>\n",
       "      <td>5b852003b0a5d190863d8372</td>\n",
       "      <td>2018-08-28 09:17:11.950</td>\n",
       "      <td>{'user': 5b3e0266a14b7e000d9cc040, 'name': 'te...</td>\n",
       "      <td>None</td>\n",
       "      <td>None</td>\n",
       "      <td>False</td>\n",
       "      <td>True</td>\n",
       "      <td>...</td>\n",
       "      <td>31</td>\n",
       "      <td>24</td>\n",
       "      <td>31.0</td>\n",
       "      <td>0</td>\n",
       "      <td>0</td>\n",
       "      <td>55</td>\n",
       "      <td>3300006</td>\n",
       "      <td>2018-08-28 10:12:39.239</td>\n",
       "      <td>5b829227dd6c9c4c7fb00da0</td>\n",
       "      <td>NaN</td>\n",
       "    </tr>\n",
       "    <tr>\n",
       "      <th>3</th>\n",
       "      <td>0</td>\n",
       "      <td>5b852014b0a5d10fc33d83e4</td>\n",
       "      <td>NaN</td>\n",
       "      <td>5b852014b0a5d11fd13d83e5</td>\n",
       "      <td>2018-08-28 09:17:28.725</td>\n",
       "      <td>{'user': 5b3e0266a14b7e000d9cc040, 'name': 'te...</td>\n",
       "      <td>None</td>\n",
       "      <td>None</td>\n",
       "      <td>False</td>\n",
       "      <td>True</td>\n",
       "      <td>...</td>\n",
       "      <td>29</td>\n",
       "      <td>15</td>\n",
       "      <td>29.0</td>\n",
       "      <td>0</td>\n",
       "      <td>11</td>\n",
       "      <td>55</td>\n",
       "      <td>3300049</td>\n",
       "      <td>2018-08-28 10:12:59.708</td>\n",
       "      <td>5b82922add6c9c5f61b00e6a</td>\n",
       "      <td>NaN</td>\n",
       "    </tr>\n",
       "    <tr>\n",
       "      <th>4</th>\n",
       "      <td>0</td>\n",
       "      <td>5b852015b0a5d12bd43d8449</td>\n",
       "      <td>NaN</td>\n",
       "      <td>5b852015b0a5d1489b3d844a</td>\n",
       "      <td>2018-08-28 09:19:15.949</td>\n",
       "      <td>{'user': 5b3e0266a14b7e000d9cc040, 'name': 'te...</td>\n",
       "      <td>None</td>\n",
       "      <td>None</td>\n",
       "      <td>False</td>\n",
       "      <td>True</td>\n",
       "      <td>...</td>\n",
       "      <td>26</td>\n",
       "      <td>18</td>\n",
       "      <td>26.0</td>\n",
       "      <td>0</td>\n",
       "      <td>11</td>\n",
       "      <td>55</td>\n",
       "      <td>3194523</td>\n",
       "      <td>2018-08-28 10:13:52.089</td>\n",
       "      <td>5b829229dd6c9c8524b00e5a</td>\n",
       "      <td>NaN</td>\n",
       "    </tr>\n",
       "  </tbody>\n",
       "</table>\n",
       "<p>5 rows × 34 columns</p>\n",
       "</div>"
      ],
      "text/plain": [
       "   __v                       _id  attemptType            attemptdetails  \\\n",
       "0    0  5b851ff7dd6c9c8cedb051d3          NaN  5b851ff7dd6c9c400eb051d4   \n",
       "1    0  5b851ffdb0a5d1ad413d8301          NaN  5b851ffdb0a5d17a103d8302   \n",
       "2    0  5b852003b0a5d136aa3d8371          NaN  5b852003b0a5d190863d8372   \n",
       "3    0  5b852014b0a5d10fc33d83e4          NaN  5b852014b0a5d11fd13d83e5   \n",
       "4    0  5b852015b0a5d12bd43d8449          NaN  5b852015b0a5d1489b3d844a   \n",
       "\n",
       "                createdAt                                          createdBy  \\\n",
       "0 2018-08-28 09:17:00.084  {'user': 5b3e0266a14b7e000d9cc040, 'name': 'te...   \n",
       "1 2018-08-28 09:23:57.839  {'user': 5b3e0266a14b7e000d9cc040, 'name': 'te...   \n",
       "2 2018-08-28 09:17:11.950  {'user': 5b3e0266a14b7e000d9cc040, 'name': 'te...   \n",
       "3 2018-08-28 09:17:28.725  {'user': 5b3e0266a14b7e000d9cc040, 'name': 'te...   \n",
       "4 2018-08-28 09:19:15.949  {'user': 5b3e0266a14b7e000d9cc040, 'name': 'te...   \n",
       "\n",
       "  email idOffline  isAbandoned  isAnsync   ...    totalCorrects  totalErrors  \\\n",
       "0  None      None        False      True   ...               25            9   \n",
       "1  None      None        False      True   ...               35           20   \n",
       "2  None      None        False      True   ...               31           24   \n",
       "3  None      None        False      True   ...               29           15   \n",
       "4  None      None        False      True   ...               26           18   \n",
       "\n",
       "   totalMark  totalMarkeds  totalMissed  totalQuestions  totalTime  \\\n",
       "0       25.0             0           21              55    3299999   \n",
       "1       35.0             0            0              55    2887958   \n",
       "2       31.0             0            0              55    3300006   \n",
       "3       29.0             0           11              55    3300049   \n",
       "4       26.0             0           11              55    3194523   \n",
       "\n",
       "                updatedAt                      user  userId  \n",
       "0 2018-08-28 10:12:21.337  5b82922cdd6c9c2801b00f20     NaN  \n",
       "1 2018-08-28 10:12:25.489  5b82922edd6c9c6e6db00fb0     NaN  \n",
       "2 2018-08-28 10:12:39.239  5b829227dd6c9c4c7fb00da0     NaN  \n",
       "3 2018-08-28 10:12:59.708  5b82922add6c9c5f61b00e6a     NaN  \n",
       "4 2018-08-28 10:13:52.089  5b829229dd6c9c8524b00e5a     NaN  \n",
       "\n",
       "[5 rows x 34 columns]"
      ]
     },
     "execution_count": 11,
     "metadata": {},
     "output_type": "execute_result"
    }
   ],
   "source": [
    "#attempts_df= json_normalize(list(db.attempts.find()))\n",
    "attempts_df = pd.DataFrame(list(db.attempts.find()))\n",
    "attempts_df.head()"
   ]
  },
  {
   "cell_type": "code",
   "execution_count": null,
   "metadata": {},
   "outputs": [],
   "source": []
  }
 ],
 "metadata": {
  "kernelspec": {
   "display_name": "Python 3",
   "language": "python",
   "name": "python3"
  },
  "language_info": {
   "codemirror_mode": {
    "name": "ipython",
    "version": 3
   },
   "file_extension": ".py",
   "mimetype": "text/x-python",
   "name": "python",
   "nbconvert_exporter": "python",
   "pygments_lexer": "ipython3",
   "version": "3.7.3"
  }
 },
 "nbformat": 4,
 "nbformat_minor": 2
}
